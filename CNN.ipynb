{
 "cells": [
  {
   "cell_type": "code",
   "execution_count": 6,
   "metadata": {},
   "outputs": [
    {
     "name": "stdout",
     "output_type": "stream",
     "text": [
      "10 CH3 over\n",
      "10 CH4 over\n",
      "10 CH1 over\n",
      "10 CH2 over\n",
      "20 CH3 over\n",
      "20 CH1 over\n",
      "20 CH4 over\n",
      "20 CH2 over\n"
     ]
    }
   ],
   "source": [
    "import pandas as pd\n",
    "import os\n",
    "import numpy as np\n",
    "import time \n",
    "import threading\n",
    "\n",
    "csv_data = pd.read_csv(\"RAW_DATA/0_c2264c30c100.csv\", skiprows = 20)\n",
    "CH1_raw = pd.DataFrame(columns = [\"File\"] + list(csv_data.iloc[:, 0]) + [\"Class\"])\n",
    "CH2_raw = pd.DataFrame(columns = [\"File\"] + list(csv_data.iloc[:, 0]) + [\"Class\"])\n",
    "CH3_raw = pd.DataFrame(columns = [\"File\"] + list(csv_data.iloc[:, 0]) + [\"Class\"])\n",
    "CH4_raw = pd.DataFrame(columns = [\"File\"] + list(csv_data.iloc[:, 0]) + [\"Class\"])\n",
    "\n",
    "\n",
    "def compileFiles(directory, df, channel):\n",
    "    count = 0\n",
    "    for file in os.listdir(directory):\n",
    "        csv_data = pd.read_csv(os.path.join(directory, file), skiprows=20)\n",
    "\n",
    "        Class = file[0]\n",
    "        filename = file\n",
    "        #print(channel, \" Thread is here\")\n",
    "        ch = list(csv_data.loc[:, channel])\n",
    "\n",
    "        df.loc[len(df)] = [filename] + ch + [Class]\n",
    "        #print(channel, \" Thread is here\")\n",
    "\n",
    "        count += 1\n",
    "        if count % 10 == 0:\n",
    "            print(count, channel, \"over\")\n",
    "\n",
    "\n",
    "t1 = threading.Thread(target = compileFiles, args = (\"RAW_DATA\", CH1_raw, \"CH1\"))\n",
    "t2 = threading.Thread(target = compileFiles, args = (\"RAW_DATA\", CH2_raw, \"CH2\"))\n",
    "t3 = threading.Thread(target = compileFiles, args = (\"RAW_DATA\", CH3_raw, \"CH3\"))\n",
    "t4 = threading.Thread(target = compileFiles, args = (\"RAW_DATA\", CH4_raw, \"CH4\"))\n",
    "\n",
    "t1.start()\n",
    "t2.start()\n",
    "t3.start()\n",
    "t4.start()\n",
    "\n",
    "\n",
    "t1.join()\n",
    "t2.join()\n",
    "t3.join()\n",
    "t4.join()"
   ]
  },
  {
   "cell_type": "code",
   "execution_count": null,
   "metadata": {},
   "outputs": [],
   "source": []
  }
 ],
 "metadata": {
  "kernelspec": {
   "display_name": "tensor",
   "language": "python",
   "name": "python3"
  },
  "language_info": {
   "codemirror_mode": {
    "name": "ipython",
    "version": 3
   },
   "file_extension": ".py",
   "mimetype": "text/x-python",
   "name": "python",
   "nbconvert_exporter": "python",
   "pygments_lexer": "ipython3",
   "version": "3.7.16"
  },
  "orig_nbformat": 4
 },
 "nbformat": 4,
 "nbformat_minor": 2
}
