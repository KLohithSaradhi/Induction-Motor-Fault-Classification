{
 "cells": [
  {
   "cell_type": "code",
   "execution_count": 1,
   "id": "ad03e92a",
   "metadata": {},
   "outputs": [],
   "source": [
    "import pandas as pd\n",
    "import numpy as np"
   ]
  },
  {
   "cell_type": "code",
   "execution_count": 2,
   "id": "1a844d71",
   "metadata": {},
   "outputs": [],
   "source": [
    "ch1 = pd.read_csv(\"CH1.csv\")\n",
    "ch2 = pd.read_csv(\"CH2.csv\")\n",
    "ch3 = pd.read_csv(\"CH3.csv\")\n",
    "ch4 = pd.read_csv(\"CH4.csv\")\n",
    "\n",
    "ch1_X = ch1.select_dtypes(exclude = [\"int64\", \"object\"]).copy()\n",
    "ch2_X = ch2.select_dtypes(exclude = [\"int64\", \"object\"]).copy()\n",
    "ch3_X = ch3.select_dtypes(exclude = [\"int64\", \"object\"]).copy()\n",
    "ch4_X = ch4.select_dtypes(exclude = [\"int64\", \"object\"]).copy()\n",
    "\n",
    "ch1_X.drop([\"0\"], axis = 1, inplace = True)\n",
    "ch2_X.drop([\"0\"], axis = 1, inplace = True)\n",
    "ch3_X.drop([\"0\"], axis = 1, inplace = True)\n",
    "ch4_X.drop([\"0\"], axis = 1, inplace = True)"
   ]
  },
  {
   "cell_type": "code",
   "execution_count": 3,
   "id": "922d6ce9",
   "metadata": {},
   "outputs": [],
   "source": [
    "def getIndicesToBeRemoved(data):\n",
    "    fft = data.select_dtypes(\"float64\").T\n",
    "\n",
    "    indices = np.where(np.max(fft, axis = 0) == np.inf)[0]\n",
    "    indices = np.concatenate((indices, np.where(data.isna().any(axis = 1))[0]))\n",
    "\n",
    "    return indices"
   ]
  },
  {
   "cell_type": "code",
   "execution_count": 4,
   "id": "0ffb4932",
   "metadata": {},
   "outputs": [],
   "source": [
    "data = pd.concat([ch1_X, ch2_X, ch3_X, ch4_X], axis = 1)\n",
    "i = getIndicesToBeRemoved(data)"
   ]
  },
  {
   "cell_type": "code",
   "execution_count": 5,
   "id": "b310f612",
   "metadata": {},
   "outputs": [],
   "source": [
    "Y = ch1_X.drop(list(set(i))).reset_index(drop=True)\n",
    "\n",
    "ch2_X = ch2_X.drop(list(set(i))).reset_index(drop=True)\n",
    "ch3_X = ch3_X.drop(list(set(i))).reset_index(drop=True)\n",
    "ch4_X = ch4_X.drop(list(set(i))).reset_index(drop=True)"
   ]
  },
  {
   "cell_type": "code",
   "execution_count": 28,
   "id": "23bdfcd7",
   "metadata": {},
   "outputs": [
    {
     "name": "stdout",
     "output_type": "stream",
     "text": [
      "(array([   0,    1,    2,    3,    4,    5,    6,    7,    8,    9,   10,\n",
      "         11,   12,   13,   14,   15,   16,   17,   18,   19,   20,   21,\n",
      "         22,   23,   24,   25,   26,   27,   28,   29,   30,   31,   32,\n",
      "         33,   34,   35,   36,   37,   38,   39,   40,   41,   42,   43,\n",
      "         44,   45,   46,   47,   48,   49,   50,   51,   52,   53,   54,\n",
      "         55,   56,   57,   58,   59,   60,   61,   62,   63,   64,   65,\n",
      "         66,   67,   68,   69,   70,   71,   72,   73,   74,   75,   76,\n",
      "         77,   78,   79,   80,   81,   82,   83,   84,   85,   86,   87,\n",
      "         88,   89,   90,   91,   92,   93,   94,   95,   96,   97,   98,\n",
      "         99,  100,  101,  102,  103,  104,  105,  106,  107,  108,  109,\n",
      "        110,  111,  112,  113,  114,  115,  116,  117,  118,  119,  120,\n",
      "        121,  122,  123,  124,  125,  126,  127,  128,  129,  130,  131,\n",
      "        132,  133,  134,  135,  136,  137,  138,  139,  140,  141,  142,\n",
      "        143,  144,  145,  146,  147,  148,  149,  150,  151,  152,  153,\n",
      "        154,  155,  156,  157,  158,  159,  160,  161,  162,  163,  164,\n",
      "        165,  166,  167,  168,  169,  170,  171,  172,  173,  174,  175,\n",
      "        176,  177,  178,  179,  180,  181,  182,  183,  184,  185,  186,\n",
      "        187,  188,  189,  190,  191,  192,  193,  194,  195,  196,  197,\n",
      "        198,  199,  200,  201,  202,  203,  204,  205,  206,  207,  208,\n",
      "        209,  210,  211,  212,  213,  214,  215,  216,  217,  218,  219,\n",
      "        220,  221,  222,  223,  224,  225,  226,  227,  228,  229,  230,\n",
      "        231,  233,  234,  235,  236,  237,  238,  239,  240,  241,  242,\n",
      "        243,  244,  245,  246,  247,  248,  249,  250,  251,  252,  254,\n",
      "        255,  258,  259,  260,  261,  263,  264,  265,  267,  268,  269,\n",
      "        270,  271,  272,  273,  274,  275,  276,  277,  278,  279,  280,\n",
      "        281,  283,  284,  285,  288,  289,  290,  293,  294,  295,  296,\n",
      "        297,  298,  299,  300,  301,  302,  304,  309,  313,  314,  315,\n",
      "        319,  324,  329,  334,  339,  344,  349,  354,  358,  359,  364,\n",
      "        369,  374,  379,  383,  384,  385,  389,  394,  395,  399,  404,\n",
      "        409,  414,  418,  419,  424,  429,  434,  439,  449,  454,  459,\n",
      "        462,  464,  469,  474,  479,  484,  489,  494,  499,  504,  509,\n",
      "        514,  519,  524,  529,  539,  549,  554,  559,  569,  574,  579,\n",
      "        584,  594,  599,  604,  605,  614,  619,  629,  639,  644,  649,\n",
      "        659,  664,  669,  674,  679,  689,  699,  704,  714,  719,  729,\n",
      "        734,  745,  749,  759,  769,  779,  799,  804,  809,  834,  839,\n",
      "        849,  858,  869,  879,  899,  919,  929,  949,  959,  969,  975,\n",
      "        989,  999, 1019, 1039, 1049, 1079, 1099, 1109, 1119, 1139, 1149,\n",
      "       1159, 1169, 1199, 1259, 1319, 1349, 1379, 1399, 1840, 1950, 2059,\n",
      "       2060, 2259, 2260, 2279, 2379, 2380, 2381, 2399, 2419, 2497, 2498,\n",
      "       2499, 2500, 2501, 2569, 2579, 2589, 2599, 2609, 2619, 2620, 2679,\n",
      "       2680, 2699, 2719, 2739, 2740, 4956, 4959, 4962, 4966, 4972],\n",
      "      dtype=int64),)\n"
     ]
    },
    {
     "data": {
      "text/plain": [
       "[<matplotlib.lines.Line2D at 0x2352ecf81f0>]"
      ]
     },
     "execution_count": 28,
     "metadata": {},
     "output_type": "execute_result"
    },
    {
     "data": {
      "image/png": "[encoded data removed]",
      "text/plain": [
       "<Figure size 640x480 with 1 Axes>"
      ]
     },
     "metadata": {},
     "output_type": "display_data"
    }
   ],
   "source": [
    "import matplotlib.pyplot as plt\n",
    "summation = np.reshape(np.array(np.sum(ch3_X, axis = 0)), (-1,))\n",
    "print(np.where(summation > 0.1))\n",
    "plt.plot(summation)"
   ]
  },
  {
   "cell_type": "code",
   "execution_count": null,
   "id": "3c75a534",
   "metadata": {},
   "outputs": [],
   "source": []
  }
 ],
 "metadata": {
  "kernelspec": {
   "display_name": "Python 3 (ipykernel)",
   "language": "python",
   "name": "python3"
  },
  "language_info": {
   "codemirror_mode": {
    "name": "ipython",
    "version": 3
   },
   "file_extension": ".py",
   "mimetype": "text/x-python",
   "name": "python",
   "nbconvert_exporter": "python",
   "pygments_lexer": "ipython3",
   "version": "3.8.15"
  }
 },
 "nbformat": 4,
 "nbformat_minor": 5
}
