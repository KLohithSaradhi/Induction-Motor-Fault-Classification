{
 "cells": [
  {
   "cell_type": "code",
   "execution_count": 2,
   "metadata": {},
   "outputs": [],
   "source": [
    "import pandas as pd\n",
    "import numpy as np\n",
    "\n",
    "ch2 = pd.read_csv(\"CH2.csv\")\n",
    "ch3 = pd.read_csv(\"CH3.csv\")\n",
    "ch4 = pd.read_csv(\"CH4.csv\")\n",
    "\n",
    "ch2_X = ch2.select_dtypes(exclude = [\"int64\", \"object\"]).copy()\n",
    "ch3_X = ch3.select_dtypes(exclude = [\"int64\", \"object\"]).copy()\n",
    "ch4_X = ch4.select_dtypes(exclude = [\"int64\", \"object\"]).copy()\n",
    "\n",
    "ch2_X.drop([\"0\"], axis = 1, inplace = True)\n",
    "ch3_X.drop([\"0\"], axis = 1, inplace = True)\n",
    "ch4_X.drop([\"0\"], axis = 1, inplace = True)\n",
    "\n",
    "Y = ch2[\"label\"]"
   ]
  },
  {
   "cell_type": "code",
   "execution_count": 3,
   "metadata": {},
   "outputs": [],
   "source": [
    "def clean(X, Y):\n",
    "    fft = X.select_dtypes(\"float64\").T\n",
    "\n",
    "    X = X.drop(np.where(np.max(fft) == np.inf)[0])\n",
    "    Y = Y.drop(np.where(np.max(fft) == np.inf)[0])\n",
    "\n",
    "    Y = Y[~X.isna().any(axis = 1)]\n",
    "    X = X[~X.isna().any(axis = 1)]\n",
    "\n",
    "    X = X.reset_index(drop=True)\n",
    "    Y = Y.reset_index(drop=True)\n",
    "\n",
    "    return X, Y"
   ]
  },
  {
   "cell_type": "code",
   "execution_count": 4,
   "metadata": {},
   "outputs": [],
   "source": [
    "data = pd.concat([ch2_X, ch3_X, ch4_X], axis = 1)"
   ]
  },
  {
   "cell_type": "code",
   "execution_count": 5,
   "metadata": {},
   "outputs": [],
   "source": [
    "X, Y = clean(data, Y)"
   ]
  },
  {
   "cell_type": "code",
   "execution_count": 6,
   "metadata": {},
   "outputs": [],
   "source": [
    "norm = np.reshape(np.linalg.norm(X, axis = 1), (-1,1))\n",
    "X = X / norm"
   ]
  },
  {
   "cell_type": "code",
   "execution_count": 7,
   "metadata": {},
   "outputs": [],
   "source": [
    "from sklearn.model_selection import train_test_split\n",
    "\n",
    "x_train, x_test, y_train, y_test = train_test_split(X, Y, test_size = 0.2, random_state = 0, stratify=Y)"
   ]
  },
  {
   "cell_type": "code",
   "execution_count": null,
   "metadata": {},
   "outputs": [],
   "source": []
  }
 ],
 "metadata": {
  "kernelspec": {
   "display_name": "tensor",
   "language": "python",
   "name": "python3"
  },
  "language_info": {
   "codemirror_mode": {
    "name": "ipython",
    "version": 3
   },
   "file_extension": ".py",
   "mimetype": "text/x-python",
   "name": "python",
   "nbconvert_exporter": "python",
   "pygments_lexer": "ipython3",
   "version": "3.7.16"
  },
  "orig_nbformat": 4
 },
 "nbformat": 4,
 "nbformat_minor": 2
}
