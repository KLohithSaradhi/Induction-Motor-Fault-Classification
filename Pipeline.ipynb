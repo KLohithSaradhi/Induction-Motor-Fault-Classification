{
 "cells": [
  {
   "cell_type": "code",
   "execution_count": 1,
   "id": "93f830d2",
   "metadata": {},
   "outputs": [],
   "source": [
    "import pandas as pd\n",
    "import numpy as np\n",
    "\n",
    "from sklearn.model_selection import train_test_split\n",
    "from sklearn.preprocessing import OneHotEncoder\n",
    "from sklearn.decomposition import PCA"
   ]
  },
  {
   "cell_type": "code",
   "execution_count": 2,
   "id": "a1117eb7",
   "metadata": {},
   "outputs": [],
   "source": [
    "def prepareRawData(file):\n",
    "    d = pd.read_csv(file)\n",
    "    X = d.select_dtypes(exclude = \"int64\")\n",
    "    Y = d[\"label\"]\n",
    "\n",
    "    fft = X.select_dtypes(\"float64\").T\n",
    "\n",
    "    finite_X = X.drop(np.where(np.max(fft) == np.inf)[0])\n",
    "    finite_Y = Y.drop(np.where(np.max(fft) == np.inf)[0])\n",
    "\n",
    "    finite_Y = finite_Y[~finite_X.isna().any(axis = 1)]\n",
    "    finite_X = finite_X[~finite_X.isna().any(axis = 1)]\n",
    "\n",
    "    finite_X = finite_X.reset_index(drop=True)\n",
    "    finite_Y = finite_Y.reset_index(drop=True)\n",
    "    \n",
    "    clean_X = finite_X.drop([\"0\", \"ID\"], axis = 1)\n",
    "\n",
    "    clean_X = clean_X.reset_index(drop=True)\n",
    "    finite_Y = np.reshape(np.array(finite_Y), (-1,1))\n",
    "    \n",
    "    return clean_X, finite_Y\n",
    "\n"
   ]
  },
  {
   "cell_type": "code",
   "execution_count": 3,
   "id": "d8be66da",
   "metadata": {},
   "outputs": [],
   "source": [
    "def oneHotEncode(Y):\n",
    "    o = OneHotEncoder()\n",
    "    return o.fit_transform(Y).toarray()"
   ]
  },
  {
   "cell_type": "code",
   "execution_count": 4,
   "id": "080fb89c",
   "metadata": {},
   "outputs": [],
   "source": [
    "def split(X, Y):\n",
    "    x_train, x_test, y_train, y_test = train_test_split(X, Y, test_size=0.2, random_state=0, stratify=Y)\n",
    "        \n",
    "    return x_train, x_test, y_train, y_test"
   ]
  },
  {
   "cell_type": "code",
   "execution_count": 5,
   "id": "5f25655f",
   "metadata": {},
   "outputs": [],
   "source": [
    "def normalize(x_train, x_test, scale = 1):\n",
    "    n_train = np.reshape(np.linalg.norm(x_train, axis = 1), (-1, 1))\n",
    "    n_test = np.reshape(np.linalg.norm(x_test, axis = 1), (-1,1))\n",
    "    \n",
    "    normalized_x_train = (x_train / n_train) * scale\n",
    "    normalized_x_test = (x_test / n_test) * scale\n",
    "    \n",
    "    return normalized_x_train, normalized_x_test\n",
    "    "
   ]
  },
  {
   "cell_type": "code",
   "execution_count": 6,
   "id": "4bfaeae8",
   "metadata": {},
   "outputs": [],
   "source": [
    "def pcaReduction(normalized_x_train, explained_variance_ratio_threshold):\n",
    "    test_p = PCA()\n",
    "    test_p.fit(normalized_x_train)\n",
    "    \n",
    "    p = PCA(n_components=len(np.where(np.cumsum(test_p.explained_variance_ratio_) <= 0.9999999)[0]))\n",
    "    p.fit(normalized_x_train)\n",
    "    return p\n",
    "    "
   ]
  },
  {
   "cell_type": "code",
   "execution_count": 7,
   "id": "583b03f5",
   "metadata": {},
   "outputs": [],
   "source": [
    "X, Y = prepareRawData(\"CH3.csv\")\n",
    "Y = oneHotEncode(Y)\n",
    "x_train, x_test, y_train, y_test = split(X, Y)\n",
    "x_train, x_test = normalize(x_train, x_test)\n",
    "reducer = pcaReduction(x_train, 0.9999)\n",
    "\n",
    "compressed_x_train = reducer.transform(x_train)\n",
    "compressed_x_test = reducer.transform(x_test)"
   ]
  },
  {
   "cell_type": "code",
   "execution_count": null,
   "id": "0e48863d",
   "metadata": {},
   "outputs": [],
   "source": []
  }
 ],
 "metadata": {
  "kernelspec": {
   "display_name": "Python 3 (ipykernel)",
   "language": "python",
   "name": "python3"
  },
  "language_info": {
   "codemirror_mode": {
    "name": "ipython",
    "version": 3
   },
   "file_extension": ".py",
   "mimetype": "text/x-python",
   "name": "python",
   "nbconvert_exporter": "python",
   "pygments_lexer": "ipython3",
   "version": "3.7.16"
  }
 },
 "nbformat": 4,
 "nbformat_minor": 5
}
