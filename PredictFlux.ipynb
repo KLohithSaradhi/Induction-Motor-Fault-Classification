{
 "cells": [
  {
   "cell_type": "code",
   "execution_count": 261,
   "id": "e4263a20",
   "metadata": {},
   "outputs": [],
   "source": [
    "import pandas as pd\n",
    "import numpy as np"
   ]
  },
  {
   "cell_type": "code",
   "execution_count": 262,
   "id": "1a844d71",
   "metadata": {},
   "outputs": [
    {
     "data": {
      "text/plain": [
       "'\\nch2_X = ch2_X.iloc[:,:250]\\nch3_X = ch3_X.iloc[:,:250]\\nch4_X = ch4_X.iloc[:,:250]\\n'"
      ]
     },
     "execution_count": 262,
     "metadata": {},
     "output_type": "execute_result"
    }
   ],
   "source": [
    "ch1 = pd.read_csv(\"CH1.csv\")\n",
    "ch2 = pd.read_csv(\"CH2.csv\")\n",
    "ch3 = pd.read_csv(\"CH3.csv\")\n",
    "ch4 = pd.read_csv(\"CH4.csv\")\n",
    "\n",
    "ch1_X = ch1.select_dtypes(exclude = [\"int64\", \"object\"]).copy()\n",
    "ch2_X = ch2.select_dtypes(exclude = [\"int64\", \"object\"]).copy()\n",
    "ch3_X = ch3.select_dtypes(exclude = [\"int64\", \"object\"]).copy()\n",
    "ch4_X = ch4.select_dtypes(exclude = [\"int64\", \"object\"]).copy()\n",
    "\n",
    "ch1_X.drop([\"0\"], axis = 1, inplace = True)\n",
    "ch2_X.drop([\"0\"], axis = 1, inplace = True)\n",
    "ch3_X.drop([\"0\"], axis = 1, inplace = True)\n",
    "ch4_X.drop([\"0\"], axis = 1, inplace = True)\n",
    "'''\n",
    "ch2_X = ch2_X.iloc[:,:250]\n",
    "ch3_X = ch3_X.iloc[:,:250]\n",
    "ch4_X = ch4_X.iloc[:,:250]\n",
    "'''\n"
   ]
  },
  {
   "cell_type": "code",
   "execution_count": 263,
   "id": "922d6ce9",
   "metadata": {},
   "outputs": [],
   "source": [
    "def getIndicesToBeRemoved(data):\n",
    "    fft = data.select_dtypes(\"float64\").T\n",
    "\n",
    "    indices = np.where(np.max(fft) == np.inf)[0]\n",
    "    indices = np.concatenate((indices, np.where(data.isna().any(axis = 1))[0]))\n",
    "\n",
    "    return indices"
   ]
  },
  {
   "cell_type": "code",
   "execution_count": 264,
   "id": "0ffb4932",
   "metadata": {},
   "outputs": [],
   "source": [
    "data = pd.concat([ch1_X, ch2_X, ch3_X, ch4_X], axis = 1)\n",
    "i = getIndicesToBeRemoved(data)"
   ]
  },
  {
   "cell_type": "code",
   "execution_count": 265,
   "id": "b310f612",
   "metadata": {},
   "outputs": [],
   "source": [
    "Y = ch1_X.drop(list(set(i))).reset_index(drop=True)\n",
    "\n",
    "ch2_X = ch2_X.drop(list(set(i))).reset_index(drop=True)\n",
    "ch3_X = ch3_X.drop(list(set(i))).reset_index(drop=True)\n",
    "ch4_X = ch4_X.drop(list(set(i))).reset_index(drop=True)"
   ]
  },
  {
   "cell_type": "code",
   "execution_count": 266,
   "id": "7b067753",
   "metadata": {},
   "outputs": [],
   "source": [
    "from sklearn.decomposition import PCA\n",
    "\n",
    "def getSizes(variance_threshold):\n",
    "    ch2_pca = PCA()\n",
    "    ch2_pca.fit(ch2_X)\n",
    "    ch3_pca = PCA()\n",
    "    ch3_pca.fit(ch3_X)\n",
    "    ch4_pca = PCA()\n",
    "    ch4_pca.fit(ch4_X)\n",
    "\n",
    "    return(len(np.where(np.cumsum(ch2_pca.explained_variance_ratio_) < variance_threshold)[0]), len(np.where(np.cumsum(ch3_pca.explained_variance_ratio_) < variance_threshold)[0]),len(np.where(np.cumsum(ch4_pca.explained_variance_ratio_) < variance_threshold)[0]))\n",
    "\n"
   ]
  },
  {
   "cell_type": "code",
   "execution_count": 267,
   "id": "5ddc952f",
   "metadata": {},
   "outputs": [],
   "source": [
    "count = getSizes(0.999999)"
   ]
  },
  {
   "cell_type": "code",
   "execution_count": 268,
   "id": "333bd69d",
   "metadata": {},
   "outputs": [],
   "source": [
    "ch2_pca = PCA(n_components=count[0])\n",
    "ch3_pca = PCA(n_components=count[1])\n",
    "ch4_pca = PCA(n_components=count[2])\n",
    "\n",
    "ch2_X = ch2_pca.fit_transform(ch2_X)\n",
    "ch3_X = ch2_pca.fit_transform(ch3_X)\n",
    "ch4_X = ch2_pca.fit_transform(ch4_X)"
   ]
  },
  {
   "cell_type": "code",
   "execution_count": 269,
   "id": "aec6b1f7",
   "metadata": {},
   "outputs": [],
   "source": [
    "X = np.concatenate([ch2_X, ch3_X, ch4_X], axis = 1)"
   ]
  },
  {
   "cell_type": "code",
   "execution_count": 270,
   "id": "c1f37f3d",
   "metadata": {},
   "outputs": [
    {
     "data": {
      "text/plain": [
       "(2590, 5118)"
      ]
     },
     "execution_count": 270,
     "metadata": {},
     "output_type": "execute_result"
    }
   ],
   "source": [
    "X.shape"
   ]
  },
  {
   "cell_type": "code",
   "execution_count": 271,
   "id": "35bf384f",
   "metadata": {},
   "outputs": [
    {
     "data": {
      "text/plain": [
       "(2590, 5000)"
      ]
     },
     "execution_count": 271,
     "metadata": {},
     "output_type": "execute_result"
    }
   ],
   "source": [
    "Y.shape"
   ]
  },
  {
   "cell_type": "code",
   "execution_count": 272,
   "id": "3aa9289d",
   "metadata": {},
   "outputs": [],
   "source": [
    "def normalize(data):\n",
    "    norm = np.reshape(np.linalg.norm(data, axis = 1), (-1,1))\n",
    "\n",
    "    return data / norm"
   ]
  },
  {
   "cell_type": "code",
   "execution_count": 273,
   "id": "d74cf026",
   "metadata": {},
   "outputs": [],
   "source": [
    "X = normalize(X)"
   ]
  },
  {
   "cell_type": "code",
   "execution_count": 274,
   "id": "1200f275",
   "metadata": {},
   "outputs": [],
   "source": [
    "from sklearn.model_selection import train_test_split\n",
    "\n",
    "x_train, x_test, y_train, y_test = train_test_split(X, Y, test_size=0.2, random_state=0)"
   ]
  },
  {
   "cell_type": "code",
   "execution_count": 275,
   "id": "53f3e762",
   "metadata": {},
   "outputs": [
    {
     "data": {
      "text/plain": [
       "(2072, 5118)"
      ]
     },
     "execution_count": 275,
     "metadata": {},
     "output_type": "execute_result"
    }
   ],
   "source": [
    "x_train.shape"
   ]
  },
  {
   "cell_type": "code",
   "execution_count": 276,
   "id": "5539ede7",
   "metadata": {},
   "outputs": [],
   "source": [
    "import tensorflow as tf\n",
    "\n",
    "x_train = tf.constant(x_train, dtype = tf.float16, shape=x_train.shape)\n",
    "y_train = tf.constant(y_train, dtype = tf.float16, shape=y_train.shape)\n",
    "\n",
    "x_test = tf.constant(x_test, dtype = tf.float16, shape=x_test.shape)\n",
    "y_test = tf.constant(y_test, dtype = tf.float16, shape=y_test.shape)"
   ]
  },
  {
   "cell_type": "code",
   "execution_count": 283,
   "id": "c9cd3658",
   "metadata": {},
   "outputs": [],
   "source": [
    "\n",
    "\n",
    "from keras.layers import Dense, Dropout\n",
    "from keras import Sequential\n",
    "from keras.losses import MeanSquaredError\n",
    "\n",
    "model = Sequential([Dense(2000, activation = \"relu\"),\n",
    "                    Dense(5000, activation = \"relu\")])\n",
    "\n",
    "model.compile(loss = MeanSquaredError(), optimizer=\"rmsprop\", metrics = [\"accuracy\"])\n",
    "\n",
    "\n",
    "\n"
   ]
  },
  {
   "cell_type": "code",
   "execution_count": 284,
   "id": "a9578962",
   "metadata": {},
   "outputs": [
    {
     "name": "stdout",
     "output_type": "stream",
     "text": [
      "17/17 [==============================] - 0s 8ms/step\n",
      "Model: \"sequential_15\"\n",
      "_________________________________________________________________\n",
      " Layer (type)                Output Shape              Param #   \n",
      "=================================================================\n",
      " dense_50 (Dense)            (None, 2000)              10238000  \n",
      "                                                                 \n",
      " dense_51 (Dense)            (None, 5000)              10005000  \n",
      "                                                                 \n",
      "=================================================================\n",
      "Total params: 20,243,000\n",
      "Trainable params: 20,243,000\n",
      "Non-trainable params: 0\n",
      "_________________________________________________________________\n"
     ]
    }
   ],
   "source": [
    "model.predict(x_test)\n",
    "model.summary()"
   ]
  },
  {
   "cell_type": "code",
   "execution_count": 287,
   "id": "de30bcb8",
   "metadata": {},
   "outputs": [
    {
     "name": "stdout",
     "output_type": "stream",
     "text": [
      "Epoch 1/10\n",
      "65/65 [==============================] - 1s 11ms/step - loss: 6.8465e-07 - accuracy: 0.7394 - val_loss: 7.6236e-07 - val_accuracy: 0.7664\n",
      "Epoch 2/10\n",
      "65/65 [==============================] - 1s 10ms/step - loss: 6.8421e-07 - accuracy: 0.7428 - val_loss: 7.6513e-07 - val_accuracy: 0.7548\n",
      "Epoch 3/10\n",
      "65/65 [==============================] - 1s 10ms/step - loss: 6.8557e-07 - accuracy: 0.7365 - val_loss: 7.6012e-07 - val_accuracy: 0.7683\n",
      "Epoch 4/10\n",
      "65/65 [==============================] - 1s 10ms/step - loss: 6.8373e-07 - accuracy: 0.7423 - val_loss: 7.6926e-07 - val_accuracy: 0.7568\n",
      "Epoch 5/10\n",
      "65/65 [==============================] - 1s 10ms/step - loss: 6.8485e-07 - accuracy: 0.7346 - val_loss: 7.6311e-07 - val_accuracy: 0.7587\n",
      "Epoch 6/10\n",
      "65/65 [==============================] - 1s 10ms/step - loss: 6.8307e-07 - accuracy: 0.7403 - val_loss: 7.7127e-07 - val_accuracy: 0.7587\n",
      "Epoch 7/10\n",
      "65/65 [==============================] - 1s 10ms/step - loss: 6.8471e-07 - accuracy: 0.7423 - val_loss: 7.6857e-07 - val_accuracy: 0.7587\n",
      "Epoch 8/10\n",
      "65/65 [==============================] - 1s 10ms/step - loss: 6.8442e-07 - accuracy: 0.7408 - val_loss: 7.6655e-07 - val_accuracy: 0.7568\n",
      "Epoch 9/10\n",
      "65/65 [==============================] - 1s 10ms/step - loss: 6.8287e-07 - accuracy: 0.7437 - val_loss: 7.6015e-07 - val_accuracy: 0.7625\n",
      "Epoch 10/10\n",
      "65/65 [==============================] - 1s 10ms/step - loss: 6.8309e-07 - accuracy: 0.7403 - val_loss: 7.6049e-07 - val_accuracy: 0.7625\n"
     ]
    },
    {
     "data": {
      "text/plain": [
       "<keras.callbacks.History at 0x21b80065b08>"
      ]
     },
     "execution_count": 287,
     "metadata": {},
     "output_type": "execute_result"
    }
   ],
   "source": [
    "model.fit(x_train, y_train, epochs = 10, validation_data = [x_test, y_test])"
   ]
  },
  {
   "cell_type": "code",
   "execution_count": null,
   "id": "f44a1e76",
   "metadata": {},
   "outputs": [],
   "source": []
  }
 ],
 "metadata": {
  "kernelspec": {
   "display_name": "Python 3 (ipykernel)",
   "language": "python",
   "name": "python3"
  },
  "language_info": {
   "codemirror_mode": {
    "name": "ipython",
    "version": 3
   },
   "file_extension": ".py",
   "mimetype": "text/x-python",
   "name": "python",
   "nbconvert_exporter": "python",
   "pygments_lexer": "ipython3",
   "version": "3.7.16"
  }
 },
 "nbformat": 4,
 "nbformat_minor": 5
}
